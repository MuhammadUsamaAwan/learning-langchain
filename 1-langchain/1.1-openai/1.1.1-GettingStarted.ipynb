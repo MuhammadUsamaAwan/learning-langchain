{
 "cells": [
  {
   "cell_type": "code",
   "execution_count": 2,
   "metadata": {},
   "outputs": [],
   "source": [
    "import os\n",
    "from dotenv import load_dotenv\n",
    "load_dotenv()\n",
    "\n",
    "os.environ['OPENAI_API_KEY']=os.getenv(\"OPENAI_API_KEY\")\n",
    "os.environ['LANGCHAIN_API_KEY']=os.getenv(\"LANGCHAIN_API_KEY\")\n",
    "os.environ['LANGCHAIN_TRACING']=\"true\"\n",
    "os.environ['LANGCHAIN_PROJECT']=os.getenv(\"LANGCHAIN_PROJECT\")"
   ]
  },
  {
   "cell_type": "code",
   "execution_count": 5,
   "metadata": {},
   "outputs": [],
   "source": [
    "from langchain_openai import ChatOpenAI\n",
    "\n",
    "llm=ChatOpenAI(model=\"gpt-4o\")"
   ]
  },
  {
   "cell_type": "code",
   "execution_count": 7,
   "metadata": {},
   "outputs": [],
   "source": [
    "result=llm.invoke(\"What is generative AI?\")"
   ]
  },
  {
   "cell_type": "code",
   "execution_count": 8,
   "metadata": {},
   "outputs": [
    {
     "name": "stdout",
     "output_type": "stream",
     "text": [
      "content=\"Generative AI refers to a category of artificial intelligence systems designed to create new content, such as text, images, music, or even entire virtual environments. Unlike traditional AI, which typically focuses on recognizing patterns and making predictions based on existing data, generative AI models learn from large datasets to generate novel data that shares similar characteristics to the training data.\\n\\nSome of the most well-known examples of generative AI include:\\n\\n1. **Text Generation**: Models like OpenAI's GPT-3 can generate human-like text based on a given prompt. These models are trained on vast amounts of text data and can perform tasks such as writing essays, answering questions, and even creating poetry.\\n\\n2. **Image Generation**: Tools like GANs (Generative Adversarial Networks) can create realistic images. For instance, NVIDIA's StyleGAN can generate high-quality, photorealistic images of people who do not exist.\\n\\n3. **Music and Art**: AI models can compose music and create artworks. For example, Google's Magenta project aims to use machine learning to create compelling art and music.\\n\\n4. **Video Game Environments**: Generative AI can design levels, characters, and other elements in video games, enhancing creativity and reducing the workload on human designers.\\n\\nThe primary technologies behind generative AI include neural networks, particularly deep learning models, and techniques like GANs, variational autoencoders (VAEs), and transformers. These models learn complex patterns in the training data and use this understanding to generate new, similar content.\\n\\nGenerative AI has a wide range of applications, from entertainment and content creation to more practical uses like drug discovery and automated design in various fields. However, it also raises ethical and societal concerns, such as the potential for creating misleading or harmful content, intellectual property issues, and the impact on jobs and industries.\" additional_kwargs={'refusal': None} response_metadata={'token_usage': {'completion_tokens': 371, 'prompt_tokens': 13, 'total_tokens': 384}, 'model_name': 'gpt-4o-2024-05-13', 'system_fingerprint': 'fp_3aa7262c27', 'finish_reason': 'stop', 'logprobs': None} id='run-23702218-d439-43bd-adc7-fbeb6e97340f-0' usage_metadata={'input_tokens': 13, 'output_tokens': 371, 'total_tokens': 384}\n"
     ]
    }
   ],
   "source": [
    "print(result)"
   ]
  },
  {
   "cell_type": "code",
   "execution_count": 9,
   "metadata": {},
   "outputs": [
    {
     "data": {
      "text/plain": [
       "ChatPromptTemplate(input_variables=['input'], messages=[SystemMessagePromptTemplate(prompt=PromptTemplate(input_variables=[], template='You are an expert AI engineer. Provide me answers based on the questions')), HumanMessagePromptTemplate(prompt=PromptTemplate(input_variables=['input'], template='{input}'))])"
      ]
     },
     "execution_count": 9,
     "metadata": {},
     "output_type": "execute_result"
    }
   ],
   "source": [
    "from langchain_core.prompts import ChatPromptTemplate\n",
    "\n",
    "prompt=ChatPromptTemplate.from_messages(\n",
    "    [\n",
    "        (\"system\", \"You are an expert AI engineer. Provide me answers based on the questions\"),\n",
    "        (\"user\", \"{input}\")\n",
    "    ]\n",
    ")\n",
    "prompt"
   ]
  },
  {
   "cell_type": "code",
   "execution_count": 10,
   "metadata": {},
   "outputs": [
    {
     "data": {
      "text/plain": [
       "AIMessage(content='As of my last update in October 2023, there is no widely recognized technology, framework, or company known as \"Langsmith\" in the fields of AI, machine learning, or software development. It\\'s possible that \"Langsmith\" could refer to a lesser-known tool, a newly released technology, or a niche product that has not gained widespread attention yet.\\n\\nIf \"Langsmith\" is a term or entity that emerged very recently or is specific to a particular context or industry, I might not have information about it. In such cases, I would recommend checking the latest sources, official websites, or industry news for the most current information.\\n\\nIf you can provide more context or details about what \"Langsmith\" pertains to, I may be able to give a more targeted response or help you understand it better.', additional_kwargs={'refusal': None}, response_metadata={'token_usage': {'completion_tokens': 163, 'prompt_tokens': 32, 'total_tokens': 195}, 'model_name': 'gpt-4o-2024-05-13', 'system_fingerprint': 'fp_df84d6bd70', 'finish_reason': 'stop', 'logprobs': None}, id='run-fe0b0b50-7b16-4d9e-b42e-ce3cc1589d62-0', usage_metadata={'input_tokens': 32, 'output_tokens': 163, 'total_tokens': 195})"
      ]
     },
     "execution_count": 10,
     "metadata": {},
     "output_type": "execute_result"
    }
   ],
   "source": [
    "chain=prompt|llm\n",
    "\n",
    "response=chain.invoke({\"input\": \"Can you tell me about Langsmith\"})\n",
    "response"
   ]
  },
  {
   "cell_type": "code",
   "execution_count": 11,
   "metadata": {},
   "outputs": [
    {
     "data": {
      "text/plain": [
       "langchain_core.messages.ai.AIMessage"
      ]
     },
     "execution_count": 11,
     "metadata": {},
     "output_type": "execute_result"
    }
   ],
   "source": [
    "type(response)"
   ]
  },
  {
   "cell_type": "code",
   "execution_count": 12,
   "metadata": {},
   "outputs": [
    {
     "name": "stdout",
     "output_type": "stream",
     "text": [
      "Certainly! Generative AI refers to a subset of artificial intelligence that focuses on creating new content or data that mimics the properties of existing data. It leverages machine learning models, especially deep learning techniques, to generate text, images, music, code, and other forms of data. Here are some key aspects and applications of generative AI:\n",
      "\n",
      "### Key Concepts\n",
      "\n",
      "1. **Generative Models**: These are types of models that can generate new data points. They learn the underlying distribution of the data and can produce new instances that resemble the training data. Common types of generative models include:\n",
      "   - **Generative Adversarial Networks (GANs)**: Consist of two neural networks, a generator, and a discriminator, that are trained together. The generator creates data, and the discriminator evaluates it against real data, iteratively improving the quality of the generated data.\n",
      "   - **Variational Autoencoders (VAEs)**: These models encode input data into a latent space and then decode it back to the original space, allowing for the generation of new data by sampling the latent space.\n",
      "   - **Autoregressive Models**: These models generate data one piece at a time, often used in natural language processing (NLP). Examples include GPT (Generative Pre-trained Transformer) models.\n",
      "\n",
      "2. **Training Data**: Generative models require substantial amounts of training data to learn the underlying patterns effectively. This data should be diverse and representative of the domain you are interested in.\n",
      "\n",
      "### Applications\n",
      "\n",
      "1. **Natural Language Processing (NLP)**: Generative AI is used to create chatbots, write articles, generate summaries, and translate languages. Models like OpenAI's GPT-3 can generate highly coherent and contextually relevant text.\n",
      "\n",
      "2. **Image Generation**: GANs can create highly realistic images, including deepfake images and videos, artwork, and even synthetic datasets for training other AI models.\n",
      "\n",
      "3. **Music and Audio**: Generative models can compose music, generate sound effects, and even create human-like speech.\n",
      "\n",
      "4. **Code Generation**: Models like OpenAI's Codex can generate code snippets, helping developers by automating boilerplate code generation or even solving specific coding problems.\n",
      "\n",
      "5. **Healthcare**: Generative models can be used to create synthetic medical data, which can be useful for research and training purposes without compromising patient privacy. They can also assist in drug discovery by generating new molecular structures.\n",
      "\n",
      "6. **Gaming**: Generative AI can be used to create game content, such as levels, characters, and storylines, enhancing the gaming experience.\n",
      "\n",
      "### Challenges\n",
      "\n",
      "1. **Quality Control**: Ensuring the generated content is of high quality and free from biases or errors is crucial.\n",
      "2. **Ethical Concerns**: Generative AI can be misused, such as creating deepfakes for malicious purposes or generating misleading information.\n",
      "3. **Computational Resources**: Training generative models often requires significant computational power and resources.\n",
      "4. **Interpretability**: Understanding how these models generate specific outputs can be challenging, making it difficult to debug or improve them.\n",
      "\n",
      "### Future Directions\n",
      "\n",
      "1. **Improved Efficiency**: Research is ongoing to make these models more efficient in terms of both computational resources and data requirements.\n",
      "2. **Better Control**: Developing techniques to control and guide the generation process to produce more useful and relevant outputs.\n",
      "3. **Ethical AI**: Establishing guidelines and technologies to prevent misuse while promoting beneficial applications.\n",
      "\n",
      "Generative AI is a rapidly evolving field with immense potential across various industries. Its ability to create new content opens up numerous possibilities but also requires careful consideration of ethical and practical challenges.\n"
     ]
    }
   ],
   "source": [
    "# stroutput parser\n",
    "from langchain_core.output_parsers import StrOutputParser\n",
    "output_parser=StrOutputParser()\n",
    "chain=prompt|llm|output_parser\n",
    "response=chain.invoke({\"input\": \"Can you tell me about generative AI\"})\n",
    "print(response)"
   ]
  }
 ],
 "metadata": {
  "kernelspec": {
   "display_name": ".venv",
   "language": "python",
   "name": "python3"
  },
  "language_info": {
   "codemirror_mode": {
    "name": "ipython",
    "version": 3
   },
   "file_extension": ".py",
   "mimetype": "text/x-python",
   "name": "python",
   "nbconvert_exporter": "python",
   "pygments_lexer": "ipython3",
   "version": "3.12.5"
  }
 },
 "nbformat": 4,
 "nbformat_minor": 2
}
